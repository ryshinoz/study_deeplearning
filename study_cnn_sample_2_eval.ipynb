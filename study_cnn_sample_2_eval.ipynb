{
 "cells": [
  {
   "cell_type": "code",
   "execution_count": 1,
   "metadata": {
    "collapsed": false
   },
   "outputs": [],
   "source": [
    "import tensorflow as tf\n",
    "from datetime import datetime"
   ]
  },
  {
   "cell_type": "code",
   "execution_count": 2,
   "metadata": {
    "collapsed": false
   },
   "outputs": [
    {
     "name": "stdout",
     "output_type": "stream",
     "text": [
      "/tmp/data.2017-02-09T14:14:31.564728\n"
     ]
    }
   ],
   "source": [
    "IMAGE_SIZE = 112\n",
    "INPUT_SIZE = 96\n",
    "DST_INPUT_SIZE = 56\n",
    "NUM_CLASS = 5\n",
    "NUM_EXAMPLES_PER_EPOCH_FOR_TRAIN = 5000\n",
    "BATCH_SIZE = 100\n",
    "LOGDIR='/tmp/data.%s' % datetime.now().isoformat()\n",
    "\n",
    "KINDS = {\n",
    "    0: 'バッグ',\n",
    "    1: 'パンツ',\n",
    "    2: 'シューズ',\n",
    "    3: 'スカート',\n",
    "    4: 'トップス'\n",
    "}\n",
    "\n",
    "print(LOGDIR)\n",
    "\n",
    "def inference(images, keep_prob):\n",
    "    \n",
    "    x_image = tf.reshape(images, [-1, DST_INPUT_SIZE, DST_INPUT_SIZE, 3])\n",
    "\n",
    "    with tf.name_scope('filter1'):\n",
    "        \n",
    "        num_filters1 = 32\n",
    "\n",
    "        W_conv1 = tf.Variable(tf.truncated_normal([5, 5, 3, num_filters1], stddev = 0.1))\n",
    "        b_conv1 = tf.Variable(tf.constant(0.1, shape=[num_filters1]))\n",
    "        h_conv1 = tf.nn.conv2d(x_image, W_conv1, strides=[1, 1, 1, 1], padding='SAME')\n",
    "    \n",
    "    with tf.name_scope('pool1'):\n",
    "        h_conv1_cutoff = tf.nn.relu(h_conv1 + b_conv1)\n",
    "        h_pool1 = tf.nn.max_pool(h_conv1_cutoff, ksize=[1, 2, 2, 1], strides=[1, 2, 2, 1], padding='SAME')\n",
    "    \n",
    "    with tf.name_scope('filter2'):\n",
    "        num_filters2 = 64\n",
    "\n",
    "        W_conv2 = tf.Variable( tf.truncated_normal([5,5, num_filters1, num_filters2],stddev=0.1)) \n",
    "        b_conv2 = tf.Variable(tf.constant(0.1, shape=[num_filters2]))\n",
    "        h_conv2 = tf.nn.conv2d(h_pool1, W_conv2, strides=[1,1,1,1], padding='SAME')\n",
    "    \n",
    "    with tf.name_scope('pool2'):\n",
    "        h_conv2_cutoff = tf.nn.relu(h_conv2 + b_conv2)\n",
    "        h_pool2 = tf.nn.max_pool(h_conv2_cutoff, ksize=[1, 2, 2, 1], strides=[1, 2, 2, 1], padding='SAME')\n",
    "        \n",
    "    with tf.name_scope('filter3'):\n",
    "        num_filters3 = 128\n",
    "        \n",
    "        W_conv3 = tf.Variable(tf.truncated_normal([5, 5, num_filters2, num_filters3], stddev=0.1))\n",
    "        b_conv3 = tf.Variable(tf.constant(0.1, shape=[num_filters3]))\n",
    "        h_conv3 = tf.nn.conv2d(h_pool2, W_conv3, strides=[1, 1, 1, 1], padding='SAME')\n",
    "        \n",
    "    with tf.name_scope('pool3'):\n",
    "        h_conv3_cutoff = tf.nn.relu(h_conv3 + b_conv3)\n",
    "        h_pool3 = tf.nn.max_pool(h_conv3_cutoff, ksize=[1, 2, 2, 1], strides=[1, 2, 2, 1], padding='SAME')\n",
    "    \n",
    "    with tf.name_scope('fc1'):\n",
    "        w = int(DST_INPUT_SIZE / 8)\n",
    "        h_pool3_flat = tf.reshape(h_pool3, [-1, w*w*num_filters3])\n",
    "\n",
    "        num_units1 = w*w*num_filters3\n",
    "        num_units2 = 1024\n",
    "\n",
    "        w3 = tf.Variable(tf.truncated_normal([num_units1, num_units2]))\n",
    "        b3 = tf.Variable(tf.constant(0.1, shape=[num_units2])) \n",
    "        hidden3 = tf.nn.relu(tf.matmul(h_pool3_flat, w3) + b3)\n",
    "        \n",
    "        hidden3_drop = tf.nn.dropout(hidden3, keep_prob)\n",
    "        \n",
    "        w0 = tf.Variable(tf.zeros([num_units2, 5]))\n",
    "        b0 = tf.Variable(tf.zeros([5]))\n",
    "        \n",
    "        tf.summary.histogram('weights_output', w0)\n",
    "        tf.summary.histogram('biases_output', b0)\n",
    "        \n",
    "    with tf.name_scope('sotmax'):\n",
    "        p = tf.nn.softmax(tf.matmul(hidden3_drop, w0) + b0)\n",
    "        \n",
    "    return p"
   ]
  },
  {
   "cell_type": "code",
   "execution_count": 3,
   "metadata": {
    "collapsed": false
   },
   "outputs": [],
   "source": [
    "def evaluation(image_path, ckpt_path):\n",
    "    tf.reset_default_graph()\n",
    "\n",
    "    jpeg = tf.read_file(image_path)\n",
    "    image = tf.image.decode_jpeg(jpeg, channels=3)\n",
    "    image = tf.cast(image, tf.float32)\n",
    "    image.set_shape([IMAGE_SIZE, IMAGE_SIZE, 3])\n",
    "    image = tf.image.resize_images(image, [DST_INPUT_SIZE, DST_INPUT_SIZE])\n",
    "    image = tf.image.per_image_standardization(image)\n",
    "    image = tf.reshape(image, [-1,DST_INPUT_SIZE * DST_INPUT_SIZE * 3])\n",
    "\n",
    "    p = inference(image, 1.0)\n",
    "\n",
    "    sess = tf.InteractiveSession()\n",
    "    saver = tf.train.Saver()\n",
    "    sess.run(tf.global_variables_initializer())\n",
    "    saver.restore(sess, ckpt_path)\n",
    "\n",
    "    results = sess.run(p)\n",
    "\n",
    "    result = results[0]\n",
    "    rates = [round(n * 100.0, 1) for n in result]\n",
    "\n",
    "    pred = np.argmax(result)\n",
    "\n",
    "    ranking = []\n",
    "    for idx, rate in enumerate(rates):\n",
    "        name = KINDS[idx]\n",
    "        ranking.append({\n",
    "            'image': image_path,\n",
    "            'kind': name,\n",
    "            'rate': rate\n",
    "        })\n",
    "    rank = sorted(ranking, key=lambda x: x['rate'], reverse=True)\n",
    "\n",
    "    return (rank, pred)"
   ]
  },
  {
   "cell_type": "code",
   "execution_count": 4,
   "metadata": {
    "collapsed": false
   },
   "outputs": [
    {
     "data": {
      "text/plain": [
       "([{'image': 'resize/out/test/bags/coordisnap-items-1646784-909236-2qspp7.jpg',\n",
       "   'kind': 'バッグ',\n",
       "   'rate': 99.799999999999997},\n",
       "  {'image': 'resize/out/test/bags/coordisnap-items-1646784-909236-2qspp7.jpg',\n",
       "   'kind': 'スカート',\n",
       "   'rate': 0.10000000000000001},\n",
       "  {'image': 'resize/out/test/bags/coordisnap-items-1646784-909236-2qspp7.jpg',\n",
       "   'kind': 'トップス',\n",
       "   'rate': 0.10000000000000001},\n",
       "  {'image': 'resize/out/test/bags/coordisnap-items-1646784-909236-2qspp7.jpg',\n",
       "   'kind': 'パンツ',\n",
       "   'rate': 0.0},\n",
       "  {'image': 'resize/out/test/bags/coordisnap-items-1646784-909236-2qspp7.jpg',\n",
       "   'kind': 'シューズ',\n",
       "   'rate': 0.0}],\n",
       " 0)"
      ]
     },
     "execution_count": 4,
     "metadata": {},
     "output_type": "execute_result"
    }
   ],
   "source": [
    "evaluation('resize/out/test/bags/coordisnap-items-1646784-909236-2qspp7.jpg', './cnn-session-2000')"
   ]
  },
  {
   "cell_type": "code",
   "execution_count": 5,
   "metadata": {
    "collapsed": false
   },
   "outputs": [
    {
     "name": "stdout",
     "output_type": "stream",
     "text": [
      "success\n",
      "88\n",
      "[[{'image': 'resize/out/test/shoes/coordisnap-items-1543814-910703-0qrkyc.jpg', 'kind': 'シューズ', 'rate': 100.0}, {'image': 'resize/out/test/shoes/coordisnap-items-1543814-910703-0qrkyc.jpg', 'kind': 'バッグ', 'rate': 0.0}, {'image': 'resize/out/test/shoes/coordisnap-items-1543814-910703-0qrkyc.jpg', 'kind': 'パンツ', 'rate': 0.0}, {'image': 'resize/out/test/shoes/coordisnap-items-1543814-910703-0qrkyc.jpg', 'kind': 'スカート', 'rate': 0.0}, {'image': 'resize/out/test/shoes/coordisnap-items-1543814-910703-0qrkyc.jpg', 'kind': 'トップス', 'rate': 0.0}], [{'image': 'resize/out/test/shoes/coordisnap-items-1646784-909699-6qscuf.jpg', 'kind': 'シューズ', 'rate': 86.799999999999997}, {'image': 'resize/out/test/shoes/coordisnap-items-1646784-909699-6qscuf.jpg', 'kind': 'バッグ', 'rate': 12.699999999999999}, {'image': 'resize/out/test/shoes/coordisnap-items-1646784-909699-6qscuf.jpg', 'kind': 'パンツ', 'rate': 0.40000000000000002}, {'image': 'resize/out/test/shoes/coordisnap-items-1646784-909699-6qscuf.jpg', 'kind': 'スカート', 'rate': 0.0}, {'image': 'resize/out/test/shoes/coordisnap-items-1646784-909699-6qscuf.jpg', 'kind': 'トップス', 'rate': 0.0}], [{'image': 'resize/out/test/shoes/coordisnap-items-1646784-909703-9qscqa.jpg', 'kind': 'シューズ', 'rate': 85.299999999999997}, {'image': 'resize/out/test/shoes/coordisnap-items-1646784-909703-9qscqa.jpg', 'kind': 'スカート', 'rate': 14.0}, {'image': 'resize/out/test/shoes/coordisnap-items-1646784-909703-9qscqa.jpg', 'kind': 'トップス', 'rate': 0.5}, {'image': 'resize/out/test/shoes/coordisnap-items-1646784-909703-9qscqa.jpg', 'kind': 'バッグ', 'rate': 0.20000000000000001}, {'image': 'resize/out/test/shoes/coordisnap-items-1646784-909703-9qscqa.jpg', 'kind': 'パンツ', 'rate': 0.10000000000000001}], [{'image': 'resize/out/test/shoes/coordisnap-items-1646784-909707-dqscmb.jpg', 'kind': 'シューズ', 'rate': 98.799999999999997}, {'image': 'resize/out/test/shoes/coordisnap-items-1646784-909707-dqscmb.jpg', 'kind': 'バッグ', 'rate': 1.1000000000000001}, {'image': 'resize/out/test/shoes/coordisnap-items-1646784-909707-dqscmb.jpg', 'kind': 'パンツ', 'rate': 0.0}, {'image': 'resize/out/test/shoes/coordisnap-items-1646784-909707-dqscmb.jpg', 'kind': 'スカート', 'rate': 0.0}, {'image': 'resize/out/test/shoes/coordisnap-items-1646784-909707-dqscmb.jpg', 'kind': 'トップス', 'rate': 0.0}], [{'image': 'resize/out/test/shoes/coordisnap-items-1646784-909711-5qscib.jpg', 'kind': 'シューズ', 'rate': 98.299999999999997}, {'image': 'resize/out/test/shoes/coordisnap-items-1646784-909711-5qscib.jpg', 'kind': 'スカート', 'rate': 1.3999999999999999}, {'image': 'resize/out/test/shoes/coordisnap-items-1646784-909711-5qscib.jpg', 'kind': 'バッグ', 'rate': 0.20000000000000001}, {'image': 'resize/out/test/shoes/coordisnap-items-1646784-909711-5qscib.jpg', 'kind': 'パンツ', 'rate': 0.0}, {'image': 'resize/out/test/shoes/coordisnap-items-1646784-909711-5qscib.jpg', 'kind': 'トップス', 'rate': 0.0}], [{'image': 'resize/out/test/shoes/coordisnap-items-1646784-909715-eqsce8.jpg', 'kind': 'シューズ', 'rate': 99.799999999999997}, {'image': 'resize/out/test/shoes/coordisnap-items-1646784-909715-eqsce8.jpg', 'kind': 'スカート', 'rate': 0.20000000000000001}, {'image': 'resize/out/test/shoes/coordisnap-items-1646784-909715-eqsce8.jpg', 'kind': 'バッグ', 'rate': 0.0}, {'image': 'resize/out/test/shoes/coordisnap-items-1646784-909715-eqsce8.jpg', 'kind': 'パンツ', 'rate': 0.0}, {'image': 'resize/out/test/shoes/coordisnap-items-1646784-909715-eqsce8.jpg', 'kind': 'トップス', 'rate': 0.0}], [{'image': 'resize/out/test/shoes/coordisnap-items-1646784-909817-dqr1kb.jpg', 'kind': 'シューズ', 'rate': 88.099999999999994}, {'image': 'resize/out/test/shoes/coordisnap-items-1646784-909817-dqr1kb.jpg', 'kind': 'バッグ', 'rate': 6.2000000000000002}, {'image': 'resize/out/test/shoes/coordisnap-items-1646784-909817-dqr1kb.jpg', 'kind': 'トップス', 'rate': 3.0}, {'image': 'resize/out/test/shoes/coordisnap-items-1646784-909817-dqr1kb.jpg', 'kind': 'スカート', 'rate': 2.0}, {'image': 'resize/out/test/shoes/coordisnap-items-1646784-909817-dqr1kb.jpg', 'kind': 'パンツ', 'rate': 0.69999999999999996}], [{'image': 'resize/out/test/shoes/coordisnap-items-1646784-909821-6qr1g9.jpg', 'kind': 'シューズ', 'rate': 99.900000000000006}, {'image': 'resize/out/test/shoes/coordisnap-items-1646784-909821-6qr1g9.jpg', 'kind': 'バッグ', 'rate': 0.10000000000000001}, {'image': 'resize/out/test/shoes/coordisnap-items-1646784-909821-6qr1g9.jpg', 'kind': 'パンツ', 'rate': 0.0}, {'image': 'resize/out/test/shoes/coordisnap-items-1646784-909821-6qr1g9.jpg', 'kind': 'スカート', 'rate': 0.0}, {'image': 'resize/out/test/shoes/coordisnap-items-1646784-909821-6qr1g9.jpg', 'kind': 'トップス', 'rate': 0.0}], [{'image': 'resize/out/test/shoes/coordisnap-items-1646784-910123-7qr084.jpg', 'kind': 'シューズ', 'rate': 72.299999999999997}, {'image': 'resize/out/test/shoes/coordisnap-items-1646784-910123-7qr084.jpg', 'kind': 'バッグ', 'rate': 25.399999999999999}, {'image': 'resize/out/test/shoes/coordisnap-items-1646784-910123-7qr084.jpg', 'kind': 'パンツ', 'rate': 2.2999999999999998}, {'image': 'resize/out/test/shoes/coordisnap-items-1646784-910123-7qr084.jpg', 'kind': 'スカート', 'rate': 0.0}, {'image': 'resize/out/test/shoes/coordisnap-items-1646784-910123-7qr084.jpg', 'kind': 'トップス', 'rate': 0.0}], [{'image': 'resize/out/test/shoes/coordisnap-items-1646784-910180-9qrzhf.jpg', 'kind': 'シューズ', 'rate': 99.900000000000006}, {'image': 'resize/out/test/shoes/coordisnap-items-1646784-910180-9qrzhf.jpg', 'kind': 'バッグ', 'rate': 0.10000000000000001}, {'image': 'resize/out/test/shoes/coordisnap-items-1646784-910180-9qrzhf.jpg', 'kind': 'パンツ', 'rate': 0.0}, {'image': 'resize/out/test/shoes/coordisnap-items-1646784-910180-9qrzhf.jpg', 'kind': 'スカート', 'rate': 0.0}, {'image': 'resize/out/test/shoes/coordisnap-items-1646784-910180-9qrzhf.jpg', 'kind': 'トップス', 'rate': 0.0}]]\n",
      "failure\n",
      "16\n",
      "[[{'image': 'resize/out/test/shoes/coordisnap-items-1646784-909825-0qr1c8.jpg', 'kind': 'バッグ', 'rate': 78.400000000000006}, {'image': 'resize/out/test/shoes/coordisnap-items-1646784-909825-0qr1c8.jpg', 'kind': 'シューズ', 'rate': 15.699999999999999}, {'image': 'resize/out/test/shoes/coordisnap-items-1646784-909825-0qr1c8.jpg', 'kind': 'パンツ', 'rate': 3.7999999999999998}, {'image': 'resize/out/test/shoes/coordisnap-items-1646784-909825-0qr1c8.jpg', 'kind': 'スカート', 'rate': 1.2}, {'image': 'resize/out/test/shoes/coordisnap-items-1646784-909825-0qr1c8.jpg', 'kind': 'トップス', 'rate': 0.90000000000000002}], [{'image': 'resize/out/test/shoes/coordisnap-items-1646784-909829-1qr22f.jpg', 'kind': 'バッグ', 'rate': 90.0}, {'image': 'resize/out/test/shoes/coordisnap-items-1646784-909829-1qr22f.jpg', 'kind': 'シューズ', 'rate': 7.5999999999999996}, {'image': 'resize/out/test/shoes/coordisnap-items-1646784-909829-1qr22f.jpg', 'kind': 'パンツ', 'rate': 2.2999999999999998}, {'image': 'resize/out/test/shoes/coordisnap-items-1646784-909829-1qr22f.jpg', 'kind': 'スカート', 'rate': 0.0}, {'image': 'resize/out/test/shoes/coordisnap-items-1646784-909829-1qr22f.jpg', 'kind': 'トップス', 'rate': 0.0}], [{'image': 'resize/out/test/shoes/coordisnap-items-1646784-910457-cqrrsd.jpg', 'kind': 'スカート', 'rate': 78.400000000000006}, {'image': 'resize/out/test/shoes/coordisnap-items-1646784-910457-cqrrsd.jpg', 'kind': 'シューズ', 'rate': 19.300000000000001}, {'image': 'resize/out/test/shoes/coordisnap-items-1646784-910457-cqrrsd.jpg', 'kind': 'バッグ', 'rate': 1.1000000000000001}, {'image': 'resize/out/test/shoes/coordisnap-items-1646784-910457-cqrrsd.jpg', 'kind': 'パンツ', 'rate': 1.1000000000000001}, {'image': 'resize/out/test/shoes/coordisnap-items-1646784-910457-cqrrsd.jpg', 'kind': 'トップス', 'rate': 0.0}], [{'image': 'resize/out/test/shoes/coordisnap-items-1646784-910465-aqrrk7.jpg', 'kind': 'バッグ', 'rate': 62.200000000000003}, {'image': 'resize/out/test/shoes/coordisnap-items-1646784-910465-aqrrk7.jpg', 'kind': 'シューズ', 'rate': 37.700000000000003}, {'image': 'resize/out/test/shoes/coordisnap-items-1646784-910465-aqrrk7.jpg', 'kind': 'スカート', 'rate': 0.10000000000000001}, {'image': 'resize/out/test/shoes/coordisnap-items-1646784-910465-aqrrk7.jpg', 'kind': 'パンツ', 'rate': 0.0}, {'image': 'resize/out/test/shoes/coordisnap-items-1646784-910465-aqrrk7.jpg', 'kind': 'トップス', 'rate': 0.0}], [{'image': 'resize/out/test/shoes/coordisnap-items-1646784-910678-2qrln5.jpg', 'kind': 'バッグ', 'rate': 79.599999999999994}, {'image': 'resize/out/test/shoes/coordisnap-items-1646784-910678-2qrln5.jpg', 'kind': 'シューズ', 'rate': 16.699999999999999}, {'image': 'resize/out/test/shoes/coordisnap-items-1646784-910678-2qrln5.jpg', 'kind': 'トップス', 'rate': 3.2999999999999998}, {'image': 'resize/out/test/shoes/coordisnap-items-1646784-910678-2qrln5.jpg', 'kind': 'スカート', 'rate': 0.29999999999999999}, {'image': 'resize/out/test/shoes/coordisnap-items-1646784-910678-2qrln5.jpg', 'kind': 'パンツ', 'rate': 0.0}], [{'image': 'resize/out/test/shoes/coordisnap-items-1646784-910972-9qrdhe.jpg', 'kind': 'スカート', 'rate': 56.100000000000001}, {'image': 'resize/out/test/shoes/coordisnap-items-1646784-910972-9qrdhe.jpg', 'kind': 'シューズ', 'rate': 39.100000000000001}, {'image': 'resize/out/test/shoes/coordisnap-items-1646784-910972-9qrdhe.jpg', 'kind': 'パンツ', 'rate': 4.5999999999999996}, {'image': 'resize/out/test/shoes/coordisnap-items-1646784-910972-9qrdhe.jpg', 'kind': 'トップス', 'rate': 0.20000000000000001}, {'image': 'resize/out/test/shoes/coordisnap-items-1646784-910972-9qrdhe.jpg', 'kind': 'バッグ', 'rate': 0.0}], [{'image': 'resize/out/test/shoes/coordisnap-items-1646784-910975-bqrded.jpg', 'kind': 'スカート', 'rate': 57.600000000000001}, {'image': 'resize/out/test/shoes/coordisnap-items-1646784-910975-bqrded.jpg', 'kind': 'パンツ', 'rate': 39.799999999999997}, {'image': 'resize/out/test/shoes/coordisnap-items-1646784-910975-bqrded.jpg', 'kind': 'シューズ', 'rate': 2.3999999999999999}, {'image': 'resize/out/test/shoes/coordisnap-items-1646784-910975-bqrded.jpg', 'kind': 'バッグ', 'rate': 0.10000000000000001}, {'image': 'resize/out/test/shoes/coordisnap-items-1646784-910975-bqrded.jpg', 'kind': 'トップス', 'rate': 0.0}], [{'image': 'resize/out/test/shoes/coordisnap-items-1646784-911259-2qq5ic.jpg', 'kind': 'スカート', 'rate': 65.5}, {'image': 'resize/out/test/shoes/coordisnap-items-1646784-911259-2qq5ic.jpg', 'kind': 'シューズ', 'rate': 31.399999999999999}, {'image': 'resize/out/test/shoes/coordisnap-items-1646784-911259-2qq5ic.jpg', 'kind': 'バッグ', 'rate': 3.0}, {'image': 'resize/out/test/shoes/coordisnap-items-1646784-911259-2qq5ic.jpg', 'kind': 'トップス', 'rate': 0.10000000000000001}, {'image': 'resize/out/test/shoes/coordisnap-items-1646784-911259-2qq5ic.jpg', 'kind': 'パンツ', 'rate': 0.0}], [{'image': 'resize/out/test/shoes/coordisnap-items-1646784-911304-eqq71c.jpg', 'kind': 'バッグ', 'rate': 50.0}, {'image': 'resize/out/test/shoes/coordisnap-items-1646784-911304-eqq71c.jpg', 'kind': 'シューズ', 'rate': 33.299999999999997}, {'image': 'resize/out/test/shoes/coordisnap-items-1646784-911304-eqq71c.jpg', 'kind': 'トップス', 'rate': 13.6}, {'image': 'resize/out/test/shoes/coordisnap-items-1646784-911304-eqq71c.jpg', 'kind': 'スカート', 'rate': 2.7999999999999998}, {'image': 'resize/out/test/shoes/coordisnap-items-1646784-911304-eqq71c.jpg', 'kind': 'パンツ', 'rate': 0.29999999999999999}], [{'image': 'resize/out/test/shoes/coordisnap-items-1646784-911368-7qq8ha.jpg', 'kind': 'スカート', 'rate': 56.799999999999997}, {'image': 'resize/out/test/shoes/coordisnap-items-1646784-911368-7qq8ha.jpg', 'kind': 'シューズ', 'rate': 37.200000000000003}, {'image': 'resize/out/test/shoes/coordisnap-items-1646784-911368-7qq8ha.jpg', 'kind': 'パンツ', 'rate': 5.5999999999999996}, {'image': 'resize/out/test/shoes/coordisnap-items-1646784-911368-7qq8ha.jpg', 'kind': 'バッグ', 'rate': 0.20000000000000001}, {'image': 'resize/out/test/shoes/coordisnap-items-1646784-911368-7qq8ha.jpg', 'kind': 'トップス', 'rate': 0.10000000000000001}]]\n"
     ]
    }
   ],
   "source": [
    "import glob\n",
    "\n",
    "images = glob.glob('resize/out/test/shoes/*.jpg')\n",
    "\n",
    "success = []\n",
    "failure = []\n",
    "\n",
    "for image in images:\n",
    "    rank, pred = evaluation(image, './cnn-session-2000')\n",
    "    \n",
    "\n",
    "    if pred == 2:\n",
    "        success.append(rank)\n",
    "    else:\n",
    "        failure.append(rank)\n",
    "               \n",
    "print('success')\n",
    "print(len(success))\n",
    "print(success[:10])\n",
    "print('failure')\n",
    "print(len(failure))\n",
    "print(failure[:10])"
   ]
  },
  {
   "cell_type": "code",
   "execution_count": null,
   "metadata": {
    "collapsed": false
   },
   "outputs": [],
   "source": []
  },
  {
   "cell_type": "code",
   "execution_count": null,
   "metadata": {
    "collapsed": true
   },
   "outputs": [],
   "source": []
  }
 ],
 "metadata": {
  "kernelspec": {
   "display_name": "Python 3",
   "language": "python",
   "name": "python3"
  },
  "language_info": {
   "codemirror_mode": {
    "name": "ipython",
    "version": 3
   },
   "file_extension": ".py",
   "mimetype": "text/x-python",
   "name": "python",
   "nbconvert_exporter": "python",
   "pygments_lexer": "ipython3",
   "version": "3.6.0"
  }
 },
 "nbformat": 4,
 "nbformat_minor": 2
}
